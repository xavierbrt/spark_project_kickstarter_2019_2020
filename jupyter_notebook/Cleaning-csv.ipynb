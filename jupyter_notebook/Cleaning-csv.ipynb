{
 "cells": [
  {
   "cell_type": "code",
   "execution_count": 1,
   "metadata": {},
   "outputs": [
    {
     "data": {
      "text/plain": [
       "Intitializing Scala interpreter ..."
      ]
     },
     "metadata": {},
     "output_type": "display_data"
    },
    {
     "data": {
      "text/plain": [
       "Spark Web UI available at http://137.194.76.42:4040\n",
       "SparkContext available as 'sc' (version = 2.4.4, master = local[*], app id = local-1573821239904)\n",
       "SparkSession available as 'spark'\n"
      ]
     },
     "metadata": {},
     "output_type": "display_data"
    },
    {
     "data": {
      "text/plain": [
       "import org.apache.spark.SparkConf\n",
       "import org.apache.spark.sql.{DataFrame, SQLContext, SparkSession}\n"
      ]
     },
     "execution_count": 1,
     "metadata": {},
     "output_type": "execute_result"
    }
   ],
   "source": [
    "import org.apache.spark.SparkConf\n",
    "import org.apache.spark.sql.{DataFrame, SQLContext, SparkSession}"
   ]
  },
  {
   "cell_type": "markdown",
   "metadata": {},
   "source": [
    "## Configuration de SparkSession"
   ]
  },
  {
   "cell_type": "code",
   "execution_count": 2,
   "metadata": {},
   "outputs": [
    {
     "data": {
      "text/plain": [
       "conf: org.apache.spark.SparkConf = org.apache.spark.SparkConf@2c3e6a3f\n"
      ]
     },
     "execution_count": 2,
     "metadata": {},
     "output_type": "execute_result"
    }
   ],
   "source": [
    "val conf = new SparkConf().setAll(Map(\n",
    "      \"spark.scheduler.mode\" -> \"FIFO\",\n",
    "      \"spark.speculation\" -> \"false\",\n",
    "      \"spark.reducer.maxSizeInFlight\" -> \"48m\",\n",
    "      \"spark.serializer\" -> \"org.apache.spark.serializer.KryoSerializer\",\n",
    "      \"spark.kryoserializer.buffer.max\" -> \"1g\",\n",
    "      \"spark.shuffle.file.buffer\" -> \"32k\",\n",
    "      \"spark.default.parallelism\" -> \"12\",\n",
    "      \"spark.sql.shuffle.partitions\" -> \"12\"\n",
    "    ))"
   ]
  },
  {
   "cell_type": "code",
   "execution_count": 3,
   "metadata": {},
   "outputs": [
    {
     "data": {
      "text/plain": [
       "spark: org.apache.spark.sql.SparkSession = org.apache.spark.sql.SparkSession@7ea0865e\n",
       "import spark.implicits._\n"
      ]
     },
     "execution_count": 3,
     "metadata": {},
     "output_type": "execute_result"
    }
   ],
   "source": [
    " val spark = SparkSession\n",
    "      .builder\n",
    "      .config(conf)\n",
    "      .appName(\"TP Spark : Preprocessor\")\n",
    "      .getOrCreate()\n",
    "\n",
    "import spark.implicits._  // to use the symbol $"
   ]
  },
  {
   "cell_type": "markdown",
   "metadata": {},
   "source": [
    "## Création du DataFrame"
   ]
  },
  {
   "cell_type": "code",
   "execution_count": 4,
   "metadata": {},
   "outputs": [
    {
     "name": "stdout",
     "output_type": "stream",
     "text": [
      "Nombre de lignes: 108129\n",
      "Nombre de colonnes: 14\n"
     ]
    },
    {
     "data": {
      "text/plain": [
       "df: org.apache.spark.sql.DataFrame = [project_id: string, name: string ... 12 more fields]\n"
      ]
     },
     "execution_count": 4,
     "metadata": {},
     "output_type": "execute_result"
    }
   ],
   "source": [
    " val df: DataFrame = spark\n",
    "        .read\n",
    "        .option(\"header\", true)\n",
    "        .option(\"inferSchema\", \"true\")\n",
    "        .option(\"quote\", \"\\\"\")\n",
    "        .option(\"escape\", \"\\\"\")\n",
    "        .csv(\"../data/train_clean.csv\")\n",
    "\n",
    "println(s\"Nombre de lignes: ${df.count}\")\n",
    "println(s\"Nombre de colonnes: ${df.columns.length}\")"
   ]
  },
  {
   "cell_type": "markdown",
   "metadata": {},
   "source": [
    "## Cleaning"
   ]
  },
  {
   "cell_type": "code",
   "execution_count": 5,
   "metadata": {},
   "outputs": [
    {
     "data": {
      "text/plain": [
       "dfCasted: org.apache.spark.sql.DataFrame = [project_id: string, name: string ... 12 more fields]\n"
      ]
     },
     "execution_count": 5,
     "metadata": {},
     "output_type": "execute_result"
    }
   ],
   "source": [
    " val dfCasted: DataFrame = df\n",
    "      .withColumn(\"goal\", $\"goal\".cast(\"Int\"))\n",
    "      .withColumn(\"deadline\" , $\"deadline\".cast(\"Int\"))\n",
    "      .withColumn(\"state_changed_at\", $\"state_changed_at\".cast(\"Int\"))\n",
    "      .withColumn(\"created_at\", $\"created_at\".cast(\"Int\"))\n",
    "      .withColumn(\"launched_at\", $\"launched_at\".cast(\"Int\"))"
   ]
  },
  {
   "cell_type": "code",
   "execution_count": 6,
   "metadata": {},
   "outputs": [
    {
     "name": "stdout",
     "output_type": "stream",
     "text": [
      "+-------+-----------------+--------------------+--------------------+--------------------+--------------------+------------------+------------------+\n",
      "|summary|             goal|            deadline|    state_changed_at|          created_at|         launched_at|     backers_count|      final_status|\n",
      "+-------+-----------------+--------------------+--------------------+--------------------+--------------------+------------------+------------------+\n",
      "|  count|           108129|              108129|              108129|              108129|              108129|            108129|            108129|\n",
      "|   mean|36726.22826438791|1.3802484980048554E9|1.3801529957698119E9|1.3740368577694051E9|1.3772990047093103E9|123.51666065532835|0.3196274819891056|\n",
      "| stddev|971902.7051687709|4.2702221220911644E7| 4.266401844467795E7|4.2723097677902974E7| 4.294421262600033E7| 1176.745162158387|0.4663343928283478|\n",
      "|    min|                0|          1241333999|          1241334017|          1240335335|          1240602723|                 0|                 0|\n",
      "|    max|        100000000|          1433096938|          1433096940|          1432325200|          1432658473|            219382|                 1|\n",
      "+-------+-----------------+--------------------+--------------------+--------------------+--------------------+------------------+------------------+\n",
      "\n"
     ]
    }
   ],
   "source": [
    "dfCasted\n",
    "      .select(\"goal\", \"deadline\", \"state_changed_at\", \"created_at\", \"launched_at\", \"backers_count\", \"final_status\")\n",
    "      .describe()\n",
    "      .show"
   ]
  },
  {
   "cell_type": "code",
   "execution_count": 7,
   "metadata": {},
   "outputs": [
    {
     "name": "stdout",
     "output_type": "stream",
     "text": [
      "root\n",
      " |-- project_id: string (nullable = true)\n",
      " |-- name: string (nullable = true)\n",
      " |-- desc: string (nullable = true)\n",
      " |-- goal: integer (nullable = true)\n",
      " |-- keywords: string (nullable = true)\n",
      " |-- disable_communication: boolean (nullable = true)\n",
      " |-- country: string (nullable = true)\n",
      " |-- currency: string (nullable = true)\n",
      " |-- deadline: integer (nullable = true)\n",
      " |-- state_changed_at: integer (nullable = true)\n",
      " |-- created_at: integer (nullable = true)\n",
      " |-- launched_at: integer (nullable = true)\n",
      " |-- backers_count: integer (nullable = true)\n",
      " |-- final_status: integer (nullable = true)\n",
      "\n"
     ]
    }
   ],
   "source": [
    "dfCasted.printSchema()"
   ]
  },
  {
   "cell_type": "markdown",
   "metadata": {},
   "source": [
    "## Suppression de colonnes"
   ]
  },
  {
   "cell_type": "code",
   "execution_count": 8,
   "metadata": {},
   "outputs": [
    {
     "data": {
      "text/plain": [
       "df2: org.apache.spark.sql.DataFrame = [project_id: string, name: string ... 9 more fields]\n"
      ]
     },
     "execution_count": 8,
     "metadata": {},
     "output_type": "execute_result"
    }
   ],
   "source": [
    "// On enlève la colonne disable_communication, qui contient peu de données et les colonnes backers_count et state_changed_at qui sont des fuites du futur\n",
    "val df2: DataFrame = df.drop(\"disable_communication\", \"backers_count\", \"state_changed_at\")"
   ]
  },
  {
   "cell_type": "code",
   "execution_count": 9,
   "metadata": {},
   "outputs": [
    {
     "name": "stdout",
     "output_type": "stream",
     "text": [
      "+--------------+--------------------+--------------------+-------+--------------------+-------+--------+----------+----------+-----------+------------+\n",
      "|    project_id|                name|                desc|   goal|            keywords|country|currency|  deadline|created_at|launched_at|final_status|\n",
      "+--------------+--------------------+--------------------+-------+--------------------+-------+--------+----------+----------+-----------+------------+\n",
      "|kkst1451568084| drawing for dollars|I like drawing pi...|   20.0| drawing-for-dollars|     US|     USD|1241333999|1240600507| 1240602723|           1|\n",
      "|kkst1474482071|Sponsor Dereck Bl...|I  Dereck Blackbu...|  300.0|sponsor-dereck-bl...|     US|     USD|1242429000|1240960224| 1240975592|           0|\n",
      "| kkst183622197|       Mr. Squiggles|So I saw darkpony...|   30.0|        mr-squiggles|     US|     USD|1243027560|1242163613| 1242164398|           0|\n",
      "| kkst597742710|Help me write my ...|Do your part to h...|  500.0|help-me-write-my-...|     US|     USD|1243555740|1240963795| 1240966730|           1|\n",
      "|kkst1913131122|Support casting m...|I m nearing compl...| 2000.0|support-casting-m...|     US|     USD|1243769880|1241177914| 1241180541|           0|\n",
      "|kkst1085176748|        daily digest|I m a fledgling v...|  700.0|        daily-digest|     US|     USD|1243815600|1241050799| 1241464468|           0|\n",
      "|kkst1468954715|iGoozex - Free iP...|I am an independe...|  250.0|igoozex-free-ipho...|     US|     USD|1243872000|1241725172| 1241736308|           0|\n",
      "| kkst194050612|Drive A Faster Ca...|Drive A Faster Ca...| 1000.0|drive-a-faster-ca...|     US|     USD|1244088000|1241460541| 1241470291|           1|\n",
      "| kkst708883590|\"\"\"\"\"\"\"\"\"\"\"\"\"\"\"\"\"...|Opening Friday  J...| 5000.0|lostles-at-tinys-...|     US|     USD|1244264400|1241415164| 1241480901|           0|\n",
      "| kkst890976740|Choose Your Own A...|This project is f...| 3500.0|choose-your-own-a...|     US|     USD|1244946540|1242268157| 1242273460|           0|\n",
      "|kkst2053381363|Anatomy of a Cred...|I am an independe...|30000.0|anatomy-of-a-cred...|     US|     USD|1245026160|1241829376| 1242056094|           0|\n",
      "| kkst918550886|No-bit: An artist...|I want to create ...|  300.0|no-bit-an-artist-...|     US|     USD|1245038400|1242523061| 1242528805|           0|\n",
      "| kkst934689279|Indie Nerd Board ...|pictured here is ...| 1500.0|indie-nerd-board-...|     US|     USD|1245042600|1242364202| 1242369560|           1|\n",
      "| kkst191414809|Icons for your iP...|I make cool icons...|  500.0|awesome-icons-for...|     US|     USD|1245092400|1241034764| 1241039475|           1|\n",
      "| kkst569584443|HAPPY VALLEY: Dex...|I am a profession...|  500.0|help-me-make-my-w...|     US|     USD|1245528660|1242072711| 1242333869|           0|\n",
      "| kkst485555421|       Project Pedal|Project Pedal is ...| 1000.0|       project-pedal|     US|     USD|1245556740|1242682134| 1242690018|           1|\n",
      "|kkst1537563608|Frank Magazine Er...|We are throwing a...|  600.0|frank-magazine-er...|     US|     USD|1245882360|1244579167| 1244742156|           0|\n",
      "|kkst1261713500|  Crossword Puzzles!|I create crosswor...| 1500.0|   crossword-puzzles|     US|     USD|1246354320|1240997554| 1241005923|           1|\n",
      "| kkst910550425|Run, Blago Run! Show|A 3-day pop-up ar...| 3500.0|  run-blago-run-show|     US|     USD|1246420800|1244299453| 1244388012|           0|\n",
      "| kkst139451001|It Might Become a...|We are broke film...| 1000.0|it-might-become-a...|     US|     USD|1246420800|1243272026| 1243616180|           1|\n",
      "+--------------+--------------------+--------------------+-------+--------------------+-------+--------+----------+----------+-----------+------------+\n",
      "only showing top 20 rows\n",
      "\n"
     ]
    }
   ],
   "source": [
    "df2.show()"
   ]
  },
  {
   "cell_type": "markdown",
   "metadata": {},
   "source": [
    "## Vérification des données"
   ]
  },
  {
   "cell_type": "code",
   "execution_count": 10,
   "metadata": {},
   "outputs": [
    {
     "name": "stdout",
     "output_type": "stream",
     "text": [
      "+-------+-----------------+-------+--------+--------------------+--------------------+--------------------+------------------+\n",
      "|summary|             goal|country|currency|            deadline|          created_at|         launched_at|      final_status|\n",
      "+-------+-----------------+-------+--------+--------------------+--------------------+--------------------+------------------+\n",
      "|  count|           108129| 108129|  108129|              108129|              108129|              108129|            108129|\n",
      "|   mean| 36726.2288325981|   null|    null|1.3802484980048554E9|1.3740368577694051E9|1.3772990047093103E9|0.3196274819891056|\n",
      "| stddev|971902.7051560311|   null|    null|4.2702221220911644E7|4.2723097677902974E7| 4.294421262600033E7|0.4663343928283478|\n",
      "|    min|             0.01|     AU|     AUD|          1241333999|          1240335335|          1240602723|                 0|\n",
      "|    max|            1.0E8|     US|     USD|          1433096938|          1432325200|          1432658473|                 1|\n",
      "+-------+-----------------+-------+--------+--------------------+--------------------+--------------------+------------------+\n",
      "\n"
     ]
    }
   ],
   "source": [
    "// Ce n'est plus la peine de cleaner les colonnes currency et country, qui sont bien remplies \n",
    "// (elles étaient mal remplies au départ car les virgules n'étaient pas échappées à la lecture du fichier csv)\n",
    "df2.select(\"goal\", \"country\", \"currency\", \"deadline\",\"created_at\", \"launched_at\",\"final_status\")\n",
    "      .describe()\n",
    "      .show"
   ]
  },
  {
   "cell_type": "code",
   "execution_count": 11,
   "metadata": {},
   "outputs": [
    {
     "name": "stdout",
     "output_type": "stream",
     "text": [
      "+------------+-----+\n",
      "|final_status|count|\n",
      "+------------+-----+\n",
      "|           0|73568|\n",
      "|           1|34561|\n",
      "+------------+-----+\n",
      "\n"
     ]
    }
   ],
   "source": [
    "df2.groupBy(\"final_status\").count.show() \n",
    "// 0: fail, 1: success "
   ]
  },
  {
   "cell_type": "code",
   "execution_count": 12,
   "metadata": {},
   "outputs": [
    {
     "name": "stdout",
     "output_type": "stream",
     "text": [
      "root\n",
      " |-- project_id: string (nullable = true)\n",
      " |-- name: string (nullable = true)\n",
      " |-- desc: string (nullable = true)\n",
      " |-- goal: double (nullable = true)\n",
      " |-- keywords: string (nullable = true)\n",
      " |-- country: string (nullable = true)\n",
      " |-- currency: string (nullable = true)\n",
      " |-- deadline: integer (nullable = true)\n",
      " |-- created_at: integer (nullable = true)\n",
      " |-- launched_at: integer (nullable = true)\n",
      " |-- final_status: integer (nullable = true)\n",
      "\n"
     ]
    }
   ],
   "source": [
    "df2.printSchema()"
   ]
  },
  {
   "cell_type": "markdown",
   "metadata": {},
   "source": [
    "## Retraitement de colonnes"
   ]
  },
  {
   "cell_type": "markdown",
   "metadata": {},
   "source": [
    "### Traitement des dates"
   ]
  },
  {
   "cell_type": "code",
   "execution_count": 13,
   "metadata": {},
   "outputs": [
    {
     "data": {
      "text/plain": [
       "df3: org.apache.spark.sql.DataFrame = [project_id: string, name: string ... 10 more fields]\n"
      ]
     },
     "execution_count": 13,
     "metadata": {},
     "output_type": "execute_result"
    }
   ],
   "source": [
    "// create column \"days_campaign\" with the (truncated) number of days between launch time and deadline\n",
    "val df3: DataFrame = df2.withColumn(\"days_campaign\", datediff(from_unixtime($\"deadline\"), from_unixtime($\"launched_at\")))"
   ]
  },
  {
   "cell_type": "code",
   "execution_count": 14,
   "metadata": {},
   "outputs": [
    {
     "data": {
      "text/plain": [
       "df4: org.apache.spark.sql.DataFrame = [project_id: string, name: string ... 11 more fields]\n"
      ]
     },
     "execution_count": 14,
     "metadata": {},
     "output_type": "execute_result"
    }
   ],
   "source": [
    "// create column \"hours_prepa\" with the number of hours between creation time and launch time\n",
    "val df4: DataFrame = df3.withColumn(\"hours_prepa\", round(($\"launched_at\" - $\"created_at\")/3600,3))"
   ]
  },
  {
   "cell_type": "code",
   "execution_count": 15,
   "metadata": {},
   "outputs": [
    {
     "name": "stdout",
     "output_type": "stream",
     "text": [
      "+--------------+-------------+-----------+----------+-----------+----------+\n",
      "|    project_id|days_campaign|hours_prepa|  deadline|launched_at|created_at|\n",
      "+--------------+-------------+-----------+----------+-----------+----------+\n",
      "|kkst1451568084|            9|      0.616|1241333999| 1240602723|1240600507|\n",
      "|kkst1474482071|           17|      4.269|1242429000| 1240975592|1240960224|\n",
      "| kkst183622197|           10|      0.218|1243027560| 1242164398|1242163613|\n",
      "| kkst597742710|           30|      0.815|1243555740| 1240966730|1240963795|\n",
      "|kkst1913131122|           30|       0.73|1243769880| 1241180541|1241177914|\n",
      "|kkst1085176748|           28|    114.908|1243815600| 1241464468|1241050799|\n",
      "|kkst1468954715|           24|      3.093|1243872000| 1241736308|1241725172|\n",
      "| kkst194050612|           31|      2.708|1244088000| 1241470291|1241460541|\n",
      "| kkst708883590|           32|      18.26|1244264400| 1241480901|1241415164|\n",
      "| kkst890976740|           31|      1.473|1244946540| 1242273460|1242268157|\n",
      "|kkst2053381363|           35|     62.977|1245026160| 1242056094|1241829376|\n",
      "| kkst918550886|           29|      1.596|1245038400| 1242528805|1242523061|\n",
      "| kkst934689279|           31|      1.488|1245042600| 1242369560|1242364202|\n",
      "| kkst191414809|           47|      1.309|1245092400| 1241039475|1241034764|\n",
      "| kkst569584443|           37|     72.544|1245528660| 1242333869|1242072711|\n",
      "| kkst485555421|           33|       2.19|1245556740| 1242690018|1242682134|\n",
      "|kkst1537563608|           14|     45.275|1245882360| 1244742156|1244579167|\n",
      "|kkst1261713500|           62|      2.325|1246354320| 1241005923|1240997554|\n",
      "| kkst910550425|           24|       24.6|1246420800| 1244388012|1244299453|\n",
      "| kkst139451001|           33|     95.598|1246420800| 1243616180|1243272026|\n",
      "+--------------+-------------+-----------+----------+-----------+----------+\n",
      "only showing top 20 rows\n",
      "\n"
     ]
    }
   ],
   "source": [
    "df4.select(\"project_id\", \"days_campaign\", \"hours_prepa\", \"deadline\", \"launched_at\", \"created_at\").show()"
   ]
  },
  {
   "cell_type": "code",
   "execution_count": 16,
   "metadata": {},
   "outputs": [
    {
     "data": {
      "text/plain": [
       "df5: org.apache.spark.sql.DataFrame = [project_id: string, name: string ... 8 more fields]\n"
      ]
     },
     "execution_count": 16,
     "metadata": {},
     "output_type": "execute_result"
    }
   ],
   "source": [
    "val df5: DataFrame = df4.drop(\"launched_at\", \"created_at\", \"deadline\")"
   ]
  },
  {
   "cell_type": "code",
   "execution_count": 17,
   "metadata": {},
   "outputs": [
    {
     "name": "stdout",
     "output_type": "stream",
     "text": [
      "+--------------+--------------------+--------------------+-------+--------------------+-------+--------+------------+-------------+-----------+\n",
      "|    project_id|                name|                desc|   goal|            keywords|country|currency|final_status|days_campaign|hours_prepa|\n",
      "+--------------+--------------------+--------------------+-------+--------------------+-------+--------+------------+-------------+-----------+\n",
      "|kkst1451568084| drawing for dollars|I like drawing pi...|   20.0| drawing-for-dollars|     US|     USD|           1|            9|      0.616|\n",
      "|kkst1474482071|Sponsor Dereck Bl...|I  Dereck Blackbu...|  300.0|sponsor-dereck-bl...|     US|     USD|           0|           17|      4.269|\n",
      "| kkst183622197|       Mr. Squiggles|So I saw darkpony...|   30.0|        mr-squiggles|     US|     USD|           0|           10|      0.218|\n",
      "| kkst597742710|Help me write my ...|Do your part to h...|  500.0|help-me-write-my-...|     US|     USD|           1|           30|      0.815|\n",
      "|kkst1913131122|Support casting m...|I m nearing compl...| 2000.0|support-casting-m...|     US|     USD|           0|           30|       0.73|\n",
      "|kkst1085176748|        daily digest|I m a fledgling v...|  700.0|        daily-digest|     US|     USD|           0|           28|    114.908|\n",
      "|kkst1468954715|iGoozex - Free iP...|I am an independe...|  250.0|igoozex-free-ipho...|     US|     USD|           0|           24|      3.093|\n",
      "| kkst194050612|Drive A Faster Ca...|Drive A Faster Ca...| 1000.0|drive-a-faster-ca...|     US|     USD|           1|           31|      2.708|\n",
      "| kkst708883590|\"\"\"\"\"\"\"\"\"\"\"\"\"\"\"\"\"...|Opening Friday  J...| 5000.0|lostles-at-tinys-...|     US|     USD|           0|           32|      18.26|\n",
      "| kkst890976740|Choose Your Own A...|This project is f...| 3500.0|choose-your-own-a...|     US|     USD|           0|           31|      1.473|\n",
      "|kkst2053381363|Anatomy of a Cred...|I am an independe...|30000.0|anatomy-of-a-cred...|     US|     USD|           0|           35|     62.977|\n",
      "| kkst918550886|No-bit: An artist...|I want to create ...|  300.0|no-bit-an-artist-...|     US|     USD|           0|           29|      1.596|\n",
      "| kkst934689279|Indie Nerd Board ...|pictured here is ...| 1500.0|indie-nerd-board-...|     US|     USD|           1|           31|      1.488|\n",
      "| kkst191414809|Icons for your iP...|I make cool icons...|  500.0|awesome-icons-for...|     US|     USD|           1|           47|      1.309|\n",
      "| kkst569584443|HAPPY VALLEY: Dex...|I am a profession...|  500.0|help-me-make-my-w...|     US|     USD|           0|           37|     72.544|\n",
      "| kkst485555421|       Project Pedal|Project Pedal is ...| 1000.0|       project-pedal|     US|     USD|           1|           33|       2.19|\n",
      "|kkst1537563608|Frank Magazine Er...|We are throwing a...|  600.0|frank-magazine-er...|     US|     USD|           0|           14|     45.275|\n",
      "|kkst1261713500|  Crossword Puzzles!|I create crosswor...| 1500.0|   crossword-puzzles|     US|     USD|           1|           62|      2.325|\n",
      "| kkst910550425|Run, Blago Run! Show|A 3-day pop-up ar...| 3500.0|  run-blago-run-show|     US|     USD|           0|           24|       24.6|\n",
      "| kkst139451001|It Might Become a...|We are broke film...| 1000.0|it-might-become-a...|     US|     USD|           1|           33|     95.598|\n",
      "+--------------+--------------------+--------------------+-------+--------------------+-------+--------+------------+-------------+-----------+\n",
      "only showing top 20 rows\n",
      "\n"
     ]
    }
   ],
   "source": [
    "df5.show()"
   ]
  },
  {
   "cell_type": "markdown",
   "metadata": {},
   "source": [
    "### Traitement des colonnes contenant du texte"
   ]
  },
  {
   "cell_type": "code",
   "execution_count": 18,
   "metadata": {},
   "outputs": [
    {
     "data": {
      "text/plain": [
       "df6: org.apache.spark.sql.DataFrame = [project_id: string, name: string ... 8 more fields]\n"
      ]
     },
     "execution_count": 18,
     "metadata": {},
     "output_type": "execute_result"
    }
   ],
   "source": [
    "val df6: DataFrame = df5.withColumn(\"name\", lower($\"name\"))\n",
    "                        .withColumn(\"desc\", lower($\"desc\"))\n",
    "                        .withColumn(\"keywords\", lower($\"keywords\"))"
   ]
  },
  {
   "cell_type": "code",
   "execution_count": 19,
   "metadata": {},
   "outputs": [],
   "source": [
    "df6.show()"
   ]
  },
  {
   "cell_type": "code",
   "execution_count": 20,
   "metadata": {},
   "outputs": [
    {
     "name": "stdout",
     "output_type": "stream",
     "text": [
      "+--------------+--------------------+--------------------+-------+--------------------+-------+--------+------------+-------------+-----------+\n",
      "|    project_id|                name|                desc|   goal|            keywords|country|currency|final_status|days_campaign|hours_prepa|\n",
      "+--------------+--------------------+--------------------+-------+--------------------+-------+--------+------------+-------------+-----------+\n",
      "|kkst1451568084| drawing for dollars|i like drawing pi...|   20.0| drawing-for-dollars|     US|     USD|           1|            9|      0.616|\n",
      "|kkst1474482071|sponsor dereck bl...|i  dereck blackbu...|  300.0|sponsor-dereck-bl...|     US|     USD|           0|           17|      4.269|\n",
      "| kkst183622197|       mr. squiggles|so i saw darkpony...|   30.0|        mr-squiggles|     US|     USD|           0|           10|      0.218|\n",
      "| kkst597742710|help me write my ...|do your part to h...|  500.0|help-me-write-my-...|     US|     USD|           1|           30|      0.815|\n",
      "|kkst1913131122|support casting m...|i m nearing compl...| 2000.0|support-casting-m...|     US|     USD|           0|           30|       0.73|\n",
      "|kkst1085176748|        daily digest|i m a fledgling v...|  700.0|        daily-digest|     US|     USD|           0|           28|    114.908|\n",
      "|kkst1468954715|igoozex - free ip...|i am an independe...|  250.0|igoozex-free-ipho...|     US|     USD|           0|           24|      3.093|\n",
      "| kkst194050612|drive a faster ca...|drive a faster ca...| 1000.0|drive-a-faster-ca...|     US|     USD|           1|           31|      2.708|\n",
      "| kkst708883590|\"\"\"\"\"\"\"\"\"\"\"\"\"\"\"\"\"...|opening friday  j...| 5000.0|lostles-at-tinys-...|     US|     USD|           0|           32|      18.26|\n",
      "| kkst890976740|choose your own a...|this project is f...| 3500.0|choose-your-own-a...|     US|     USD|           0|           31|      1.473|\n",
      "|kkst2053381363|anatomy of a cred...|i am an independe...|30000.0|anatomy-of-a-cred...|     US|     USD|           0|           35|     62.977|\n",
      "| kkst918550886|no-bit: an artist...|i want to create ...|  300.0|no-bit-an-artist-...|     US|     USD|           0|           29|      1.596|\n",
      "| kkst934689279|indie nerd board ...|pictured here is ...| 1500.0|indie-nerd-board-...|     US|     USD|           1|           31|      1.488|\n",
      "| kkst191414809|icons for your ip...|i make cool icons...|  500.0|awesome-icons-for...|     US|     USD|           1|           47|      1.309|\n",
      "| kkst569584443|happy valley: dex...|i am a profession...|  500.0|help-me-make-my-w...|     US|     USD|           0|           37|     72.544|\n",
      "| kkst485555421|       project pedal|project pedal is ...| 1000.0|       project-pedal|     US|     USD|           1|           33|       2.19|\n",
      "|kkst1537563608|frank magazine er...|we are throwing a...|  600.0|frank-magazine-er...|     US|     USD|           0|           14|     45.275|\n",
      "|kkst1261713500|  crossword puzzles!|i create crosswor...| 1500.0|   crossword-puzzles|     US|     USD|           1|           62|      2.325|\n",
      "| kkst910550425|run, blago run! show|a 3-day pop-up ar...| 3500.0|  run-blago-run-show|     US|     USD|           0|           24|       24.6|\n",
      "| kkst139451001|it might become a...|we are broke film...| 1000.0|it-might-become-a...|     US|     USD|           1|           33|     95.598|\n",
      "+--------------+--------------------+--------------------+-------+--------------------+-------+--------+------------+-------------+-----------+\n",
      "only showing top 20 rows\n",
      "\n"
     ]
    },
    {
     "data": {
      "text/plain": [
       "df7: org.apache.spark.sql.DataFrame = [project_id: string, name: string ... 9 more fields]\n",
       "df8: org.apache.spark.sql.DataFrame = [project_id: string, goal: double ... 6 more fields]\n"
      ]
     },
     "execution_count": 20,
     "metadata": {},
     "output_type": "execute_result"
    }
   ],
   "source": [
    "val df7: DataFrame = df6.withColumn(\"text\", concat_ws(\" \",$\"name\", $\"desc\",$\"keywords\"))\n",
    "val df8: DataFrame = df7.drop(\"name\", \"desc\", \"keywords\")"
   ]
  },
  {
   "cell_type": "code",
   "execution_count": 21,
   "metadata": {},
   "outputs": [
    {
     "name": "stdout",
     "output_type": "stream",
     "text": [
      "+--------------+-------+-------+--------+------------+-------------+-----------+--------------------+\n",
      "|    project_id|   goal|country|currency|final_status|days_campaign|hours_prepa|                text|\n",
      "+--------------+-------+-------+--------+------------+-------------+-----------+--------------------+\n",
      "|kkst1451568084|   20.0|     US|     USD|           1|            9|      0.616|drawing for dolla...|\n",
      "|kkst1474482071|  300.0|     US|     USD|           0|           17|      4.269|sponsor dereck bl...|\n",
      "| kkst183622197|   30.0|     US|     USD|           0|           10|      0.218|mr. squiggles so ...|\n",
      "| kkst597742710|  500.0|     US|     USD|           1|           30|      0.815|help me write my ...|\n",
      "|kkst1913131122| 2000.0|     US|     USD|           0|           30|       0.73|support casting m...|\n",
      "|kkst1085176748|  700.0|     US|     USD|           0|           28|    114.908|daily digest i m ...|\n",
      "|kkst1468954715|  250.0|     US|     USD|           0|           24|      3.093|igoozex - free ip...|\n",
      "| kkst194050612| 1000.0|     US|     USD|           1|           31|      2.708|drive a faster ca...|\n",
      "| kkst708883590| 5000.0|     US|     USD|           0|           32|      18.26|\"\"\"\"\"\"\"\"\"\"\"\"\"\"\"\"\"...|\n",
      "| kkst890976740| 3500.0|     US|     USD|           0|           31|      1.473|choose your own a...|\n",
      "|kkst2053381363|30000.0|     US|     USD|           0|           35|     62.977|anatomy of a cred...|\n",
      "| kkst918550886|  300.0|     US|     USD|           0|           29|      1.596|no-bit: an artist...|\n",
      "| kkst934689279| 1500.0|     US|     USD|           1|           31|      1.488|indie nerd board ...|\n",
      "| kkst191414809|  500.0|     US|     USD|           1|           47|      1.309|icons for your ip...|\n",
      "| kkst569584443|  500.0|     US|     USD|           0|           37|     72.544|happy valley: dex...|\n",
      "| kkst485555421| 1000.0|     US|     USD|           1|           33|       2.19|project pedal pro...|\n",
      "|kkst1537563608|  600.0|     US|     USD|           0|           14|     45.275|frank magazine er...|\n",
      "|kkst1261713500| 1500.0|     US|     USD|           1|           62|      2.325|crossword puzzles...|\n",
      "| kkst910550425| 3500.0|     US|     USD|           0|           24|       24.6|run, blago run! s...|\n",
      "| kkst139451001| 1000.0|     US|     USD|           1|           33|     95.598|it might become a...|\n",
      "+--------------+-------+-------+--------+------------+-------------+-----------+--------------------+\n",
      "only showing top 20 rows\n",
      "\n"
     ]
    }
   ],
   "source": [
    "df8.show()"
   ]
  },
  {
   "cell_type": "markdown",
   "metadata": {},
   "source": [
    "## Valeurs nulles"
   ]
  },
  {
   "cell_type": "code",
   "execution_count": 22,
   "metadata": {},
   "outputs": [
    {
     "name": "stdout",
     "output_type": "stream",
     "text": [
      "0\n",
      "0\n",
      "0\n",
      "0\n",
      "0\n",
      "0\n",
      "0\n",
      "0\n"
     ]
    }
   ],
   "source": [
    "// There is no null values. To verify :\n",
    "println(df8.filter(\"project_id is null\").count())\n",
    "println(df8.filter(\"goal is null\").count())\n",
    "println(df8.filter(\"country is null\").count())\n",
    "println(df8.filter(\"currency is null\").count())\n",
    "println(df8.filter(\"final_status is null\").count())\n",
    "println(df8.filter(\"days_campaign is null\").count())\n",
    "println(df8.filter(\"hours_prepa is null\").count())\n",
    "println(df8.filter(\"text is null\").count())"
   ]
  },
  {
   "cell_type": "markdown",
   "metadata": {},
   "source": [
    "## Sauvegarde du dataframe"
   ]
  },
  {
   "cell_type": "code",
   "execution_count": 23,
   "metadata": {},
   "outputs": [
    {
     "data": {
      "text/plain": [
       "res12: Long = 108129\n"
      ]
     },
     "execution_count": 23,
     "metadata": {},
     "output_type": "execute_result"
    }
   ],
   "source": [
    "// The dataframe contains 108129 rows\n",
    "df8.count()"
   ]
  },
  {
   "cell_type": "code",
   "execution_count": 24,
   "metadata": {},
   "outputs": [
    {
     "ename": "org.apache.spark.sql.AnalysisException",
     "evalue": " path file:/media/xavier/Data/Documents/DEV/Telecom/INF729-spark/spark_project_kickstarter_2019_2020/data/dataframe already exists.;",
     "output_type": "error",
     "traceback": [
      "org.apache.spark.sql.AnalysisException: path file:/media/xavier/Data/Documents/DEV/Telecom/INF729-spark/spark_project_kickstarter_2019_2020/data/dataframe already exists.;",
      "  at org.apache.spark.sql.execution.datasources.InsertIntoHadoopFsRelationCommand.run(InsertIntoHadoopFsRelationCommand.scala:114)",
      "  at org.apache.spark.sql.execution.command.DataWritingCommandExec.sideEffectResult$lzycompute(commands.scala:104)",
      "  at org.apache.spark.sql.execution.command.DataWritingCommandExec.sideEffectResult(commands.scala:102)",
      "  at org.apache.spark.sql.execution.command.DataWritingCommandExec.doExecute(commands.scala:122)",
      "  at org.apache.spark.sql.execution.SparkPlan$$anonfun$execute$1.apply(SparkPlan.scala:131)",
      "  at org.apache.spark.sql.execution.SparkPlan$$anonfun$execute$1.apply(SparkPlan.scala:127)",
      "  at org.apache.spark.sql.execution.SparkPlan$$anonfun$executeQuery$1.apply(SparkPlan.scala:155)",
      "  at org.apache.spark.rdd.RDDOperationScope$.withScope(RDDOperationScope.scala:151)",
      "  at org.apache.spark.sql.execution.SparkPlan.executeQuery(SparkPlan.scala:152)",
      "  at org.apache.spark.sql.execution.SparkPlan.execute(SparkPlan.scala:127)",
      "  at org.apache.spark.sql.execution.QueryExecution.toRdd$lzycompute(QueryExecution.scala:80)",
      "  at org.apache.spark.sql.execution.QueryExecution.toRdd(QueryExecution.scala:80)",
      "  at org.apache.spark.sql.DataFrameWriter$$anonfun$runCommand$1.apply(DataFrameWriter.scala:676)",
      "  at org.apache.spark.sql.DataFrameWriter$$anonfun$runCommand$1.apply(DataFrameWriter.scala:676)",
      "  at org.apache.spark.sql.execution.SQLExecution$$anonfun$withNewExecutionId$1.apply(SQLExecution.scala:78)",
      "  at org.apache.spark.sql.execution.SQLExecution$.withSQLConfPropagated(SQLExecution.scala:125)",
      "  at org.apache.spark.sql.execution.SQLExecution$.withNewExecutionId(SQLExecution.scala:73)",
      "  at org.apache.spark.sql.DataFrameWriter.runCommand(DataFrameWriter.scala:676)",
      "  at org.apache.spark.sql.DataFrameWriter.saveToV1Source(DataFrameWriter.scala:285)",
      "  at org.apache.spark.sql.DataFrameWriter.save(DataFrameWriter.scala:271)",
      "  at org.apache.spark.sql.DataFrameWriter.save(DataFrameWriter.scala:229)",
      "  at org.apache.spark.sql.DataFrameWriter.parquet(DataFrameWriter.scala:566)",
      "  ... 38 elided",
      ""
     ]
    }
   ],
   "source": [
    "// Save the dataframe in the folder ../data/dataframe\n",
    "df8.write.parquet(\"../data/dataframe\")"
   ]
  }
 ],
 "metadata": {
  "kernelspec": {
   "display_name": "spylon-kernel",
   "language": "scala",
   "name": "spylon-kernel"
  },
  "language_info": {
   "codemirror_mode": "text/x-scala",
   "file_extension": ".scala",
   "help_links": [
    {
     "text": "MetaKernel Magics",
     "url": "https://metakernel.readthedocs.io/en/latest/source/README.html"
    }
   ],
   "mimetype": "text/x-scala",
   "name": "scala",
   "pygments_lexer": "scala",
   "version": "0.4.1"
  }
 },
 "nbformat": 4,
 "nbformat_minor": 2
}
